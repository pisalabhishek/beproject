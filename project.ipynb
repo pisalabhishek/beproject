{
 "cells": [
  {
   "cell_type": "code",
   "execution_count": 1,
   "id": "568f3245-f243-4411-a43b-df009d630b20",
   "metadata": {},
   "outputs": [],
   "source": [
    "import numpy as np\n",
    "import re\n",
    "import spacy\n",
    "import torch\n",
    "from pdfminer.high_level import extract_text\n",
    "from transformers import BertTokenizer, BertModel\n",
    "from sklearn.metrics.pairwise import cosine_similarity\n",
    "from sklearn.feature_extraction.text import TfidfVectorizer\n",
    "from sklearn.model_selection import train_test_split\n",
    "from sklearn.metrics import accuracy_score\n",
    "from sklearn.linear_model import LogisticRegression\n",
    "from sklearn.svm import SVC\n",
    "from sklearn.ensemble import RandomForestClassifier\n",
    "from sklearn.neural_network import MLPClassifier\n",
    "import gradio as gr\n",
    "import pandas as pd\n",
    "import tempfile\n",
    "import matplotlib.pyplot as plt"
   ]
  },
  {
   "cell_type": "code",
   "execution_count": 5,
   "id": "ad285571-09ae-498e-97e1-fa26f0f5ce36",
   "metadata": {},
   "outputs": [],
   "source": [
    "# Load NLP models\n",
    "nlp = spacy.load('en_core_web_sm')\n",
    "tokenizer = BertTokenizer.from_pretrained('bert-base-uncased')\n",
    "model = BertModel.from_pretrained('bert-base-uncased')"
   ]
  },
  {
   "cell_type": "code",
   "execution_count": 6,
   "id": "ef4f34cb-fd38-4f36-9dc6-615e1c02dd2a",
   "metadata": {},
   "outputs": [],
   "source": [
    "# Extract text from PDF\n",
    "def extract_text_from_pdf(pdf_path):\n",
    "    try:\n",
    "        text = extract_text(pdf_path)\n",
    "        if not text.strip():\n",
    "            raise ValueError(\"Empty or unreadable PDF.\")\n",
    "        return text\n",
    "    except Exception as e:\n",
    "        return f\"Error reading PDF: {str(e)}\""
   ]
  },
  {
   "cell_type": "code",
   "execution_count": 7,
   "id": "d7376234-545f-4abe-b7d3-1700dad07e37",
   "metadata": {},
   "outputs": [],
   "source": [
    "# Clean Resume\n",
    "def clean_resume(text):\n",
    "    text = re.sub(r'\\W+', ' ', text)  \n",
    "    doc = nlp(text.lower())           \n",
    "    clean_text = ' '.join([token.lemma_ for token in doc if token.text not in nlp.Defaults.stop_words])\n",
    "    return clean_text"
   ]
  },
  {
   "cell_type": "code",
   "execution_count": 8,
   "id": "46520f88-1505-4125-942a-1b66678081c9",
   "metadata": {},
   "outputs": [],
   "source": [
    "# Get BERT Embeddings (Batch Processing)\n",
    "def get_bert_embedding(texts):\n",
    "    inputs = tokenizer(texts, return_tensors='pt', truncation=True, padding=True, max_length=512)\n",
    "    with torch.no_grad():\n",
    "        outputs = model(**inputs)\n",
    "    return outputs.last_hidden_state[:, 0, :].numpy()"
   ]
  },
  {
   "cell_type": "code",
   "execution_count": 9,
   "id": "d73abdd7-385d-4cb6-85e7-3ffd72f70f6c",
   "metadata": {},
   "outputs": [],
   "source": [
    "# Rank Resumes using multiple models\n",
    "def rank_resumes(job_desc_embedding, resume_embeddings, tfidf_matrix, tfidf_vectorizer, job_desc_text):\n",
    "    similarity_scores = cosine_similarity(job_desc_embedding, resume_embeddings).flatten()\n",
    "    tfidf_scores = tfidf_matrix @ tfidf_vectorizer.transform([job_desc_text]).T\n",
    "    tfidf_scores = tfidf_scores.toarray().flatten()\n",
    "    final_scores = (0.7 * similarity_scores) + (0.3 * tfidf_scores / tfidf_scores.max()) \n",
    "    \n",
    "    # Prepare training data\n",
    "    X = final_scores.reshape(-1, 1)\n",
    "    y = [1 if score >= 0.5 else 0 for score in final_scores]\n",
    "    if len(set(y)) > 1:  # Ensure we have both classes\n",
    "        X_train, X_test, y_train, y_test = train_test_split(X, y, test_size=0.2, random_state=42)\n",
    "        \n",
    "        models = {\n",
    "            \"Logistic Regression\": LogisticRegression(),\n",
    "            \"SVM\": SVC(probability=True),\n",
    "            \"Random Forest\": RandomForestClassifier(n_estimators=100),\n",
    "            \"Neural Network\": MLPClassifier(hidden_layer_sizes=(64, 32), max_iter=500)\n",
    "        }\n",
    "        \n",
    "        best_model = None\n",
    "        best_accuracy = 0\n",
    "        \n",
    "        for name, model in models.items():\n",
    "            model.fit(X_train, y_train)\n",
    "            acc = accuracy_score(y_test, model.predict(X_test))\n",
    "            print(f\"{name} Accuracy: {acc:.2f}\")\n",
    "            if acc > best_accuracy:\n",
    "                best_accuracy = acc\n",
    "                best_model = model\n",
    "    \n",
    "    ranked_indices = np.argsort(final_scores)[::-1]\n",
    "    return ranked_indices, final_scores[ranked_indices]"
   ]
  },
  {
   "cell_type": "code",
   "execution_count": 10,
   "id": "aeffd3ad-593f-424c-812f-716a98b671e0",
   "metadata": {},
   "outputs": [],
   "source": [
    "# Save results to CSV\n",
    "def save_results_to_csv(ranked_results):\n",
    "    with tempfile.NamedTemporaryFile(delete=False, suffix='.csv') as tmp_file:\n",
    "        ranked_results.to_csv(tmp_file.name, index=False)\n",
    "        return tmp_file.name"
   ]
  },
  {
   "cell_type": "code",
   "execution_count": 11,
   "id": "8b911a90-33dc-45b3-9a2b-f66873a881d4",
   "metadata": {},
   "outputs": [],
   "source": [
    "# Graphical Visualization\n",
    "def plot_results(ranked_results):\n",
    "    plt.figure(figsize=(10, 6))\n",
    "    plt.barh(ranked_results['Resume'], ranked_results['Score'], color='skyblue')\n",
    "    plt.xlabel(\"Score\")\n",
    "    plt.ylabel(\"Resumes\")\n",
    "    plt.title(\"Resume Ranking Scores\")\n",
    "    plt.gca().invert_yaxis()\n",
    "    plt.show()\n"
   ]
  },
  {
   "cell_type": "code",
   "execution_count": 12,
   "id": "8b914efa-3f2c-412f-81c0-87fe3c314c52",
   "metadata": {},
   "outputs": [],
   "source": [
    "# Process Resumes\n",
    "def process_resumes(resume_files, job_desc_text):\n",
    "    resume_embeddings = []\n",
    "    cleaned_resumes = []\n",
    "    resume_names = []\n",
    "    \n",
    "    for resume_file in resume_files:\n",
    "        try:\n",
    "            pdf_text = extract_text_from_pdf(resume_file.name)\n",
    "            clean_text = clean_resume(pdf_text)\n",
    "            cleaned_resumes.append(clean_text)\n",
    "            resume_names.append(resume_file.name)\n",
    "        except Exception as e:\n",
    "            return {\"error\": f\"Error processing {resume_file.name}: {str(e)}\"}\n",
    "    \n",
    "    if not cleaned_resumes:\n",
    "        return {\"error\": \"No valid resumes found.\"}\n",
    "    \n",
    "    resume_embeddings = get_bert_embedding(cleaned_resumes)\n",
    "    job_desc_embedding = get_bert_embedding([job_desc_text])\n",
    "    \n",
    "    tfidf_vectorizer = TfidfVectorizer()\n",
    "    tfidf_matrix = tfidf_vectorizer.fit_transform(cleaned_resumes)\n",
    "    \n",
    "    ranked_indices, scores = rank_resumes(job_desc_embedding, resume_embeddings, tfidf_matrix, tfidf_vectorizer, job_desc_text)\n",
    "    \n",
    "    ranked_results = pd.DataFrame({\n",
    "        \"Rank\": range(1, len(ranked_indices) + 1),\n",
    "        \"Resume\": [resume_names[i].split('/')[-1] for i in ranked_indices],\n",
    "        \"Score\": [f\"{scores[i]:.4f}\" for i in ranked_indices]\n",
    "    })\n",
    "    \n",
    "    csv_file_path = save_results_to_csv(ranked_results)\n",
    "    plot_results(ranked_results)\n",
    "    return ranked_results.to_string(index=False), csv_file_path"
   ]
  },
  {
   "cell_type": "code",
   "execution_count": 13,
   "id": "b9968e68-ead2-4eb6-bae2-4340fe802bc4",
   "metadata": {},
   "outputs": [
    {
     "name": "stderr",
     "output_type": "stream",
     "text": [
      "/home/abhishek/.local/lib/python3.10/site-packages/gradio/interface.py:393: UserWarning: The `allow_flagging` parameter in `Interface` is deprecated.Use `flagging_mode` instead.\n",
      "  warnings.warn(\n"
     ]
    },
    {
     "name": "stdout",
     "output_type": "stream",
     "text": [
      "* Running on local URL:  http://127.0.0.1:7860\n",
      "\n",
      "To create a public link, set `share=True` in `launch()`.\n"
     ]
    },
    {
     "data": {
      "text/html": [
       "<div><iframe src=\"http://127.0.0.1:7860/\" width=\"100%\" height=\"500\" allow=\"autoplay; camera; microphone; clipboard-read; clipboard-write;\" frameborder=\"0\" allowfullscreen></iframe></div>"
      ],
      "text/plain": [
       "<IPython.core.display.HTML object>"
      ]
     },
     "metadata": {},
     "output_type": "display_data"
    },
    {
     "data": {
      "text/plain": []
     },
     "execution_count": 13,
     "metadata": {},
     "output_type": "execute_result"
    }
   ],
   "source": [
    "# Interface for Gradio\n",
    "def interface(job_desc_text, resume_files):\n",
    "    return process_resumes(resume_files, job_desc_text)\n",
    "\n",
    "# Gradio UI\n",
    "gr.Interface(\n",
    "    fn=interface,\n",
    "    inputs=[\n",
    "        gr.Textbox(label=\"Job Description\", placeholder=\"Enter the job description...\"),\n",
    "        gr.File(label=\"Upload Resumes\", file_count=\"multiple\")\n",
    "    ],\n",
    "    outputs=[\"text\", \"file\"],\n",
    "    title=\"AI-Powered Resume Ranking with ML Models\",\n",
    "    description=\"Upload resumes and enter a job description to rank the resumes based on relevance using ML models.\",\n",
    "    allow_flagging=\"never\"\n",
    ").launch()\n"
   ]
  },
  {
   "cell_type": "code",
   "execution_count": null,
   "id": "78609b27-77df-40d9-b5e7-420ee49f1876",
   "metadata": {},
   "outputs": [],
   "source": []
  }
 ],
 "metadata": {
  "kernelspec": {
   "display_name": "Python 3 (ipykernel)",
   "language": "python",
   "name": "python3"
  },
  "language_info": {
   "codemirror_mode": {
    "name": "ipython",
    "version": 3
   },
   "file_extension": ".py",
   "mimetype": "text/x-python",
   "name": "python",
   "nbconvert_exporter": "python",
   "pygments_lexer": "ipython3",
   "version": "3.10.12"
  }
 },
 "nbformat": 4,
 "nbformat_minor": 5
}
